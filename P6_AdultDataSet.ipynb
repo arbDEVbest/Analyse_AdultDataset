{
 "cells": [
  {
   "cell_type": "markdown",
   "metadata": {},
   "source": [
    "#### Imporation des librairies \n",
    "##### 1- imporation des données dans une dataframe\n",
    "##### 1-2 Analysez et visualisez l'ensemble de données"
   ]
  },
  {
   "cell_type": "code",
   "execution_count": 1,
   "metadata": {},
   "outputs": [],
   "source": [
    "import pandas as pd \n",
    "import numpy as np\n",
    "import matplotlib.pyplot as plt"
   ]
  },
  {
   "cell_type": "code",
   "execution_count": null,
   "metadata": {},
   "outputs": [],
   "source": [
    "#imporation des données \n",
    "adult = pd.read_csv(\"\")"
   ]
  }
 ],
 "metadata": {
  "interpreter": {
   "hash": "33b39045803929b15702acb8536ddeab826a602e9be8efaa16d9cce5be442119"
  },
  "kernelspec": {
   "display_name": "Python 3.8.11 64-bit ('ArbreEtForet': conda)",
   "language": "python",
   "name": "python3"
  },
  "language_info": {
   "codemirror_mode": {
    "name": "ipython",
    "version": 3
   },
   "file_extension": ".py",
   "mimetype": "text/x-python",
   "name": "python",
   "nbconvert_exporter": "python",
   "pygments_lexer": "ipython3",
   "version": "3.8.11"
  },
  "orig_nbformat": 4
 },
 "nbformat": 4,
 "nbformat_minor": 2
}
